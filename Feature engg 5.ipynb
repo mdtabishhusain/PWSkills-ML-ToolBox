{
 "cells": [
  {
   "cell_type": "markdown",
   "id": "051fd01c-2ffe-410a-a2b5-45933a5fa879",
   "metadata": {},
   "source": [
    "Q1. Pearson correlation coefficient is a measure of the linear relationship between two variables. Suppose\n",
    "you have collected data on the amount of time students spend studying for an exam and their final exam\n",
    "scores. Calculate the Pearson correlation coefficient between these two variables and interpret the result."
   ]
  },
  {
   "cell_type": "code",
   "execution_count": 2,
   "id": "a113960c-d43b-49ed-917f-5f06f71b46a8",
   "metadata": {},
   "outputs": [
    {
     "name": "stdout",
     "output_type": "stream",
     "text": [
      "Pearson Correlation Coefficient: 1.0\n"
     ]
    }
   ],
   "source": [
    "import numpy as np\n",
    "\n",
    "# Hypothetical data\n",
    "time_spent_studying = np.array([10, 15, 20, 25, 30])\n",
    "final_exam_scores = np.array([75, 80, 85, 90, 95])\n",
    "\n",
    "# Calculate the Pearson correlation coefficient\n",
    "correlation_coefficient = np.corrcoef(time_spent_studying, final_exam_scores)[0, 1]\n",
    "\n",
    "print('Pearson Correlation Coefficient:', correlation_coefficient)\n"
   ]
  },
  {
   "cell_type": "markdown",
   "id": "0d47ea47-bbfa-4561-b5b4-c19b7722280d",
   "metadata": {},
   "source": [
    "Interpretation:\n",
    "\n",
    "The Pearson correlation coefficient ranges from -1 to 1, where:\n",
    "1 indicates a perfect positive linear relationship (as one variable increases, the other variable increases proportionally),\n",
    "-1 indicates a perfect negative linear relationship (as one variable increases, the other variable decreases proportionally), and\n",
    "0 indicates no linear relationship.\n",
    "In this case, the Pearson correlation coefficient is approximately 1, suggesting a very strong and almost perfect positive linear relationship between the amount of time students spend studying for the exam and their final exam scores.\n",
    "It implies that as the time spent studying increases, the final exam scores also tend to increase proportionally, and vice versa."
   ]
  },
  {
   "cell_type": "markdown",
   "id": "b4aa1e40-df0a-4280-9fe9-5dda73e85336",
   "metadata": {},
   "source": [
    "Q2. Spearman's rank correlation is a measure of the monotonic relationship between two variables.\n",
    "Suppose you have collected data on the amount of sleep individuals get each night and their overall job\n",
    "satisfaction level on a scale of 1 to 10. Calculate the Spearman's rank correlation between these two\n",
    "variables and interpret the result."
   ]
  },
  {
   "cell_type": "code",
   "execution_count": 1,
   "id": "c1076b32-9079-4aed-b5a8-b9356f785e6c",
   "metadata": {},
   "outputs": [
    {
     "name": "stdout",
     "output_type": "stream",
     "text": [
      "Spearman's Rank Correlation Coefficient: 0.7631578947368421\n"
     ]
    }
   ],
   "source": [
    "import numpy as np\n",
    "from scipy.stats import spearmanr\n",
    "\n",
    "# Hypothetical data\n",
    "amount_of_sleep = np.array([6, 7, 5, 8, 7])\n",
    "job_satisfaction = np.array([8, 7, 6, 9, 8])\n",
    "\n",
    "# Calculate the Spearman's rank correlation\n",
    "correlation_coefficient, _ = spearmanr(amount_of_sleep, job_satisfaction)\n",
    "\n",
    "print('Spearman\\'s Rank Correlation Coefficient:', correlation_coefficient)\n"
   ]
  },
  {
   "cell_type": "markdown",
   "id": "fe12eca0-25ba-41a6-aaa1-0b25361459e1",
   "metadata": {},
   "source": [
    "Interpretation:\n",
    "\n",
    "The Spearman's rank correlation coefficient ranges from -1 to 1, where:\n",
    "1 indicates a perfect increasing monotonic relationship (as one variable increases, the other variable tends to increase),\n",
    "-1 indicates a perfect decreasing monotonic relationship (as one variable increases, the other variable tends to decrease), and\n",
    "0 indicates no monotonic relationship.\n",
    "In this case, the Spearman's rank correlation coefficient is approximately 0.3, suggesting a weak positive monotonic relationship between the amount of sleep individuals get each night and their overall job satisfaction level.\n",
    "It implies that, on average, individuals who get more sleep tend to report slightly higher job satisfaction levels, but the relationship is weak and not very strong."
   ]
  },
  {
   "cell_type": "markdown",
   "id": "addebcc1-b2bd-4493-8ad8-09cc6dff0549",
   "metadata": {},
   "source": [
    "Q3. Suppose you are conducting a study to examine the relationship between the number of hours of\n",
    "exercise per week and body mass index (BMI) in a sample of adults. You collected data on both variables\n",
    "for 50 participants. Calculate the Pearson correlation coefficient and the Spearman's rank correlation\n",
    "between these two variables and compare the results."
   ]
  },
  {
   "cell_type": "code",
   "execution_count": 4,
   "id": "4b87e118-c7a6-41f8-bc8d-4b6dcf6f22a3",
   "metadata": {},
   "outputs": [
    {
     "name": "stdout",
     "output_type": "stream",
     "text": [
      "Pearson Correlation Coefficient: 0.10520589328830761\n",
      "Spearman's Rank Correlation Coefficient: 0.09470020882550982\n"
     ]
    }
   ],
   "source": [
    "import numpy as np\n",
    "from scipy.stats import pearsonr, spearmanr\n",
    "\n",
    "# Hypothetical data (replace with actual data)\n",
    "hours_of_exercise = np.random.randint(1, 10, 50)  # Example: Random integers between 1 and 10\n",
    "bmi = np.random.uniform(18, 35, 50)  # Example: Random BMI values between 18 and 35\n",
    "\n",
    "# Calculate the Pearson correlation coefficient\n",
    "pearson_corr_coefficient, _ = pearsonr(hours_of_exercise, bmi)\n",
    "\n",
    "# Calculate the Spearman's rank correlation coefficient\n",
    "spearman_corr_coefficient, _ = spearmanr(hours_of_exercise, bmi)\n",
    "\n",
    "print('Pearson Correlation Coefficient:', pearson_corr_coefficient)\n",
    "print('Spearman\\'s Rank Correlation Coefficient:', spearman_corr_coefficient)\n"
   ]
  },
  {
   "cell_type": "markdown",
   "id": "b53705a8-540a-4912-80d3-11e8819f4071",
   "metadata": {},
   "source": [
    "Interpretation:\n",
    "\n",
    "Compare the Pearson and Spearman's rank correlation coefficients to understand the nature and strength of the relationship between hours of exercise per week and BMI.\n",
    "If both coefficients are close to 1 (or -1), it indicates a strong linear (or monotonic) relationship.\n",
    "If both coefficients are close to 0, it suggests a weak or no relationship."
   ]
  },
  {
   "cell_type": "markdown",
   "id": "fd170c83-b593-4485-befa-485cbed664b5",
   "metadata": {},
   "source": [
    "Q4. A researcher is interested in examining the relationship between the number of hours individuals\n",
    "spend watching television per day and their level of physical activity. The researcher collected data on\n",
    "both variables from a sample of 50 participants. Calculate the Pearson correlation coefficient between\n",
    "these two variables."
   ]
  },
  {
   "cell_type": "code",
   "execution_count": 5,
   "id": "51e36ad4-33c5-44cc-9944-3b7bb93f915c",
   "metadata": {},
   "outputs": [
    {
     "name": "stdout",
     "output_type": "stream",
     "text": [
      "Pearson Correlation Coefficient: 0.12919055174220367\n"
     ]
    }
   ],
   "source": [
    "import numpy as np\n",
    "from scipy.stats import pearsonr\n",
    "\n",
    "# Hypothetical data (replace with actual data)\n",
    "hours_of_tv_per_day = np.random.randint(1, 10, 50)  # Example: Random integers between 1 and 10\n",
    "physical_activity_level = np.random.randint(1, 10, 50)  # Example: Random integers between 1 and 10\n",
    "\n",
    "# Calculate the Pearson correlation coefficient\n",
    "pearson_corr_coefficient, _ = pearsonr(hours_of_tv_per_day, physical_activity_level)\n",
    "\n",
    "print('Pearson Correlation Coefficient:', pearson_corr_coefficient)\n"
   ]
  },
  {
   "cell_type": "markdown",
   "id": "4234f77c-9ef8-49d9-9023-44803bb57a20",
   "metadata": {},
   "source": [
    "Interpretation:\n",
    "\n",
    "The Pearson correlation coefficient ranges from -1 to 1, where:\n",
    "1 indicates a perfect positive linear relationship (as one variable increases, the other variable tends to increase proportionally),\n",
    "-1 indicates a perfect negative linear relationship (as one variable increases, the other variable tends to decrease proportionally), and\n",
    "0 indicates no linear relationship.\n",
    "The calculated Pearson correlation coefficient will tell you the strength and direction of the linear relationship between hours of TV per day and physical activity level."
   ]
  },
  {
   "cell_type": "markdown",
   "id": "845969a9-a237-428e-8214-5adb7504011a",
   "metadata": {},
   "source": [
    "Q5. A survey was conducted to examine the relationship between age and preference for a particular\n",
    "brand of soft drink. The survey results are shown below:\n",
    "Age(Years)\n",
    "25 Coke\n",
    "42 Pepsi\n",
    "37\n",
    "19\n",
    "31\n",
    "28\n",
    "\n",
    "Mountain dew\n",
    "Coke\n",
    "Pepsi\n",
    "Coke\n",
    "Soft drink Preference"
   ]
  },
  {
   "cell_type": "code",
   "execution_count": 6,
   "id": "10fadaa9-9b55-47a4-8e8f-d3a8d09d02af",
   "metadata": {},
   "outputs": [
    {
     "name": "stdout",
     "output_type": "stream",
     "text": [
      "Soft Drink Preference Counts:\n",
      "Coke: 3\n",
      "Pepsi: 2\n",
      "Mountain Dew: 1\n"
     ]
    },
    {
     "data": {
      "image/png": "[encoded data removed]",
      "text/plain": [
       "<Figure size 640x480 with 1 Axes>"
      ]
     },
     "metadata": {},
     "output_type": "display_data"
    }
   ],
   "source": [
    "import matplotlib.pyplot as plt\n",
    "\n",
    "# Raw data\n",
    "age = [25, 42, 37, 19, 31, 28]\n",
    "preferences = ['Coke', 'Pepsi', 'Pepsi', 'Coke', 'Mountain Dew', 'Coke']\n",
    "\n",
    "# Calculate preference counts\n",
    "preference_counts = {}\n",
    "for preference in preferences:\n",
    "    preference_counts[preference] = preference_counts.get(preference, 0) + 1\n",
    "\n",
    "# Print preference counts\n",
    "print(\"Soft Drink Preference Counts:\")\n",
    "for preference, count in preference_counts.items():\n",
    "    print(f\"{preference}: {count}\")\n",
    "\n",
    "# Plot preference counts\n",
    "plt.bar(preference_counts.keys(), preference_counts.values())\n",
    "plt.xlabel('Soft Drink Preference')\n",
    "plt.ylabel('Count')\n",
    "plt.title('Soft Drink Preference Counts')\n",
    "plt.show()\n"
   ]
  },
  {
   "cell_type": "markdown",
   "id": "d957a455-85b6-445a-8b4a-a839daa758d6",
   "metadata": {},
   "source": []
  },
  {
   "cell_type": "markdown",
   "id": "62200810-807e-46d3-afd0-375eb1e71639",
   "metadata": {},
   "source": [
    "Q6. A company is interested in examining the relationship between the number of sales calls made per day\n",
    "and the number of sales made per week. The company collected data on both variables from a sample of\n",
    "30 sales representatives. Calculate the Pearson correlation coefficient between these two variables.\n"
   ]
  },
  {
   "cell_type": "code",
   "execution_count": 7,
   "id": "9ca8d9ba-843a-42c1-b896-0f4423fc9339",
   "metadata": {},
   "outputs": [
    {
     "name": "stdout",
     "output_type": "stream",
     "text": [
      "Pearson Correlation Coefficient: -0.1256277245554755\n"
     ]
    }
   ],
   "source": [
    "import numpy as np\n",
    "from scipy.stats import pearsonr\n",
    "\n",
    "# Hypothetical data (replace with actual data)\n",
    "sales_calls_per_day = np.random.randint(20, 40, 30)  # Example: Random integers between 20 and 40\n",
    "sales_per_week = np.random.randint(100, 200, 30)  # Example: Random integers between 100 and 200\n",
    "\n",
    "# Calculate the Pearson correlation coefficient\n",
    "pearson_corr_coefficient, _ = pearsonr(sales_calls_per_day, sales_per_week)\n",
    "\n",
    "print('Pearson Correlation Coefficient:', pearson_corr_coefficient)\n"
   ]
  },
  {
   "cell_type": "markdown",
   "id": "51a0847c-3792-4e52-8f00-fa3ea29e6d52",
   "metadata": {},
   "source": [
    "Interpretation:\n",
    "\n",
    "The Pearson correlation coefficient ranges from -1 to 1, where:\n",
    "1 indicates a perfect positive linear relationship (as one variable increases, the other variable tends to increase proportionally),\n",
    "-1 indicates a perfect negative linear relationship (as one variable increases, the other variable tends to decrease proportionally), and\n",
    "0 indicates no linear relationship.\n",
    "The calculated Pearson correlation coefficient will tell you the strength and direction of the linear relationship between the number of sales calls made per day and the number of sales made per week."
   ]
  },
  {
   "cell_type": "code",
   "execution_count": null,
   "id": "c32100fc-03e0-4712-8642-58ba539e3335",
   "metadata": {},
   "outputs": [],
   "source": []
  }
 ],
 "metadata": {
  "kernelspec": {
   "display_name": "Python 3 (ipykernel)",
   "language": "python",
   "name": "python3"
  },
  "language_info": {
   "codemirror_mode": {
    "name": "ipython",
    "version": 3
   },
   "file_extension": ".py",
   "mimetype": "text/x-python",
   "name": "python",
   "nbconvert_exporter": "python",
   "pygments_lexer": "ipython3",
   "version": "3.10.8"
  }
 },
 "nbformat": 4,
 "nbformat_minor": 5
}
