{
 "cells": [
  {
   "cell_type": "markdown",
   "id": "77a78c80-6d06-42f7-93a1-2f5b0a480fc6",
   "metadata": {},
   "source": [
    "Q1: Explain the following with example:\n",
    "1. Artificial Intelligence\n",
    "2. Machine Learning\n",
    "3. Deep Learning"
   ]
  },
  {
   "cell_type": "markdown",
   "id": "c8b33181-052f-4eec-90a4-4692ad816aa7",
   "metadata": {},
   "source": [
    "Ans:\n",
    "\n",
    "AI is a smart application that can perform its own task without any human intervention. For example – Self driving cars, Robots, smart assistants such as Alexa or Siri etc\n",
    "\n",
    "Machine learning is a subset of AI. It provides stats tools to analyse, visualise, and create predictive models etc. It also helps in forecasting. For example – Recommendation system in Amazon or Netflix etc.\n",
    "\n",
    "Deep learning is a subset of machine learning. It mimics the human brain and uses multi-layered neural network. For example – Image recognition, object detection, chatbots etc.\n",
    "With respect of data science, it is a part of all – AI, ML and DL.\n"
   ]
  },
  {
   "cell_type": "markdown",
   "id": "fb771d7c-3faa-4b08-bfb1-8a482717d6b6",
   "metadata": {},
   "source": [
    "Q2- What is supervised learning? List some examples of supervised learning."
   ]
  },
  {
   "cell_type": "markdown",
   "id": "d47aadcd-2db1-4fea-9c2b-e95bf6ae7625",
   "metadata": {},
   "source": [
    "Ans:\n",
    "\n",
    "Supervised learning, as the name indicates, has the presence of a supervisor as a teacher. Basically supervised learning is when we teach or train the machine using data that is well labelled. Which means some data is already tagged with the correct answer. After that, the machine is provided with a new set of examples (data) so that the supervised learning algorithm analyses the training data(set of training examples) and produces a correct outcome from labelled data.\n",
    "So we can state that in supervised machine learning the output feature (Prediction) is known. Also it is used to solve classification and regression problem statement. \n"
   ]
  },
  {
   "cell_type": "markdown",
   "id": "f40c5c8e-2b2d-4696-8d6d-a4736c8ea06a",
   "metadata": {},
   "source": [
    "Q3- What is unsupervised learning? List some examples of unsupervised learning."
   ]
  },
  {
   "cell_type": "markdown",
   "id": "b68e3939-5e00-40d0-bc30-c7e3e4be27ea",
   "metadata": {},
   "source": [
    "Ans:\n",
    "\n",
    "Unsupervised machine learning does have any known output feature (prediction). The concept of unsupervised machine learning is that; suppose we have a dataset containing features such as salary and expenditure. We plot data points of both features in an x – y graph and see the formation of groups of similar data called clusters. Based on these clusters we get some insights such as people marked in red cluster have lower income but higher expenditure rate. So brands could target these customers and can make decision according to it."
   ]
  },
  {
   "cell_type": "markdown",
   "id": "d19cb1b0-f154-4fa5-a44e-ce31ede09cef",
   "metadata": {},
   "source": [
    "Q4- What is the difference between AI, ML, DL, and DS?"
   ]
  },
  {
   "cell_type": "markdown",
   "id": "47dbd039-d632-46f1-b47c-dab1b1504d11",
   "metadata": {},
   "source": [
    "Ans:\n",
    "\n",
    "AI is a smart application that can perform its own task without any human intervention. For example – Self driving cars, Robots, smart assistants such as Alexa or Siri etc\n",
    "\n",
    "Machine learning is a subset of AI. It provides stats tools to analyse, visualise, and create predictive models etc. It also helps in forecasting. For example – Recommendation system in Amazon or Netflix etc.\n",
    "\n",
    "Deep learning is a subset of machine learning. It mimics the human brain and uses multi-layered neural network. For example – Image recognition, object detection, chatbots etc.\n",
    "With respect of data science, it is a part of all – AI, ML and DL.\n"
   ]
  },
  {
   "cell_type": "markdown",
   "id": "6b4eb8e8-b80f-4043-be3c-04a67fb6a18b",
   "metadata": {},
   "source": [
    "Q5- What are the main differences between supervised, unsupervised, and semi-supervised learning?"
   ]
  },
  {
   "cell_type": "markdown",
   "id": "56fac5d5-1e0c-422b-982e-a9ba4d2e1057",
   "metadata": {},
   "source": [
    "Ans:\n",
    "\n",
    "Unsupervised machine learning does have any known output feature (prediction). The concept of unsupervised machine learning is that; suppose we have a dataset containing features such as salary and expenditure. We plot data points of both features in an x – y graph and see the formation of groups of similar data called clusters. Based on these clusters we get some insights such as people marked in red cluster have lower income but higher expenditure rate. So brands could target these customers and can make decision according to it.\n",
    "\n",
    "Semi supervised machine learning is the combination of supervised and unsupervised machine learning. The data is taken in form of supervised learning, i.e. output feature is known and them unsupervised learning can be performed to form clusters."
   ]
  },
  {
   "cell_type": "markdown",
   "id": "e7ac07be-afbc-4784-a54b-b1fe00334316",
   "metadata": {},
   "source": [
    "Q6- What is train, test and validation split? Explain the importance of each term."
   ]
  },
  {
   "cell_type": "markdown",
   "id": "822b944b-6da5-40da-a04b-9dce0d7b1deb",
   "metadata": {},
   "source": [
    "Ans:\n",
    "\n",
    "i.\tTraining dataset: It is used to train the model.\n",
    "\n",
    "ii.\tValidation dataset: After the model is trained using training dataset, validation dataset is used to tune the model by altering the hyper parameters of the model in order to improve accuracy.\n",
    "\n",
    "iii.\tTest dataset: Model will be tested using test dataset for accuracy.\n"
   ]
  },
  {
   "cell_type": "markdown",
   "id": "9c44e6a8-a7bc-4546-b786-2485ef296f37",
   "metadata": {},
   "source": [
    "Q7- How can unsupervised learning be used in anomaly detection?"
   ]
  },
  {
   "cell_type": "markdown",
   "id": "c9f37006-1cfa-4947-a5fd-61ec69218a80",
   "metadata": {},
   "source": [
    "Ans:\n",
    "\n",
    "Unsupervised learning can be utilized in anomaly detection by leveraging its ability to find patterns and structures within the data without the need for labeled examples. Here's how unsupervised learning, particularly clustering and density estimation methods, can be applied to anomaly detection:"
   ]
  },
  {
   "cell_type": "markdown",
   "id": "029f3547-95ba-4108-b05d-4fdc5f1ed2be",
   "metadata": {},
   "source": [
    "Q8- List down some commonly used supervised learning algorithms and unsupervised learning\n",
    "algorithms."
   ]
  },
  {
   "cell_type": "markdown",
   "id": "6f9c11c4-a59f-4669-903b-a2a6f359d832",
   "metadata": {},
   "source": [
    "Ans:\n",
    "Supervised Learning Algorithms:\n",
    "\n",
    "Linear Regression\n",
    "\n",
    "Logistic Regression\n",
    "\n",
    "Decision Trees\n",
    "\n",
    "Random Forest\n",
    "\n",
    "Support Vector Machines (SVM)\n",
    "\n",
    "K-Nearest Neighbors (KNN)\n",
    "\n",
    "Neural Networks (Deep Learning)\n",
    "\n",
    "Naive Bayes\n",
    "\n",
    "Gradient Boosting Machines (GBM)\n",
    "\n",
    "AdaBoost\n",
    "\n",
    "Unsupervised Learning Algorithms:\n",
    "\n",
    "K-means Clustering\n",
    "\n",
    "Hierarchical Clustering\n",
    "\n",
    "DBSCAN (Density-Based Spatial Clustering of Applications with Noise)\n",
    "\n",
    "Gaussian Mixture Models (GMM)\n",
    "\n",
    "Principal Component Analysis (PCA)"
   ]
  },
  {
   "cell_type": "code",
   "execution_count": null,
   "id": "515f9ba6-3544-4aa7-be9b-3c899762b153",
   "metadata": {},
   "outputs": [],
   "source": []
  }
 ],
 "metadata": {
  "kernelspec": {
   "display_name": "Python 3 (ipykernel)",
   "language": "python",
   "name": "python3"
  },
  "language_info": {
   "codemirror_mode": {
    "name": "ipython",
    "version": 3
   },
   "file_extension": ".py",
   "mimetype": "text/x-python",
   "name": "python",
   "nbconvert_exporter": "python",
   "pygments_lexer": "ipython3",
   "version": "3.10.8"
  }
 },
 "nbformat": 4,
 "nbformat_minor": 5
}
