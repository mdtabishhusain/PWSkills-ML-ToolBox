{
 "cells": [
  {
   "cell_type": "markdown",
   "id": "aa7854e8-1718-4443-b119-ffb84f1b148d",
   "metadata": {},
   "source": [
    "Q1. What is data encoding? How is it useful in data science?"
   ]
  },
  {
   "cell_type": "markdown",
   "id": "6dc8ae76-6dee-4483-8c36-98bf82e28b69",
   "metadata": {},
   "source": [
    "Data encoding is the process of converting categories of categorical data of a feature into a numerical value for the ease of building the model. For example in a dataset there is a feature called education which has categorical data – Bachelors, Masters, PhD. Now in order to perform statistical operation we need numerical data instead of categorical data. So we assign numbers – 0, 1, 2 to each category respectively. "
   ]
  },
  {
   "cell_type": "markdown",
   "id": "ad5bffaa-bea8-431a-9533-978a5c71f88e",
   "metadata": {},
   "source": [
    "Q2. What is nominal encoding? Provide an example of how you would use it in a real-world scenario."
   ]
  },
  {
   "cell_type": "markdown",
   "id": "04d2ca5a-e177-4d18-911c-57cfa2eba42e",
   "metadata": {},
   "source": [
    "Nominal encoding is a technique used to transform categorical variables that have no intrinsic ordering into numerical values that can be used in machine learning models. One common method for nominal encoding is one – hot encoding, which creates a binary vector for each category in the variable. \n",
    "For example in a dataset there is a feature called location in which 3 unique categories – \"Bengaluru, Delhi, Noida\" is given. OHE separates each category and creates a new feature for each category. Wherever in location feature, the category is Bengaluru, OHE will assign 1 to the feature – Bengaluru and will assign 0 to the features Delhi and Noida. Similarly it does for Delhi as well as Noida as shown in table below:\n",
    "Location\tBengaluru\tDelhi\tNoida\n",
    "Bengaluru\t1\t0\t0\n",
    "Noida\t0\t0\t1\n",
    "Bengaluru\t1\t0\t0\n",
    "Delhi\t0\t1\t0\n",
    "Delhi\t0\t1\t0\n",
    "Noida\t0\t0\t1\n",
    "There is a disadvantage with OHE that it creates sparse matrix (a special case of a matrix in which the number of zero elements is much higher than the number of non-zero elements) which usually leads to overfitting.\n",
    "Also if there is higher number of categories in the feature then OHE will create large number of features which is not suitable for the model.\n"
   ]
  },
  {
   "cell_type": "markdown",
   "id": "ea84ce32-a160-4ac4-9488-4518b72a88ee",
   "metadata": {},
   "source": [
    "Q3. In what situations is nominal encoding preferred over one-hot encoding? Provide a practical example."
   ]
  },
  {
   "cell_type": "markdown",
   "id": "325fdb8b-0c89-47f1-8065-dd7ee7d5ffa1",
   "metadata": {},
   "source": [
    "Nominal encoding (label encoding) is preferred over one-hot encoding when the categories in a feature have an inherent ordinal relationship or when there are many categories, making one-hot encoding impractical due to a high dimensionality.\n",
    "\n",
    "Example: In a survey about education levels, we have categories like \"High School,\" \"Bachelor's Degree,\" \"Master's Degree,\" and \"Ph.D.\" Nominal encoding is suitable here because these categories have a clear ordinal relationship: Ph.D. > Master's Degree > Bachelor's Degree > High School. Using one-hot encoding would not capture this inherent order and might not be the best representation for the data in this scenario."
   ]
  },
  {
   "cell_type": "markdown",
   "id": "0ea0ed3f-4fb4-4f39-a985-56731bcce135",
   "metadata": {},
   "source": [
    "Q4. Suppose you have a dataset containing categorical data with 5 unique values. Which encoding\n",
    "technique would you use to transform this data into a format suitable for machine learning algorithms?\n",
    "Explain why you made this choice."
   ]
  },
  {
   "cell_type": "markdown",
   "id": "84704ace-98da-4911-90db-d6810b1a06b9",
   "metadata": {},
   "source": [
    "one-hot encoding is a reliable choice for transforming categorical data into a suitable format for machine learning algorithms when dealing with a dataset with a relatively small number of unique values."
   ]
  },
  {
   "cell_type": "markdown",
   "id": "edda2b85-3ad9-4575-823c-2d6eb648769f",
   "metadata": {},
   "source": [
    "Q5. In a machine learning project, you have a dataset with 1000 rows and 5 columns. Two of the columns\n",
    "are categorical, and the remaining three columns are numerical. If you were to use nominal encoding to\n",
    "transform the categorical data, how many new columns would be created? Show your calculations."
   ]
  },
  {
   "cell_type": "markdown",
   "id": "ca1b899b-1ffa-4fa7-87d6-65a9505c4734",
   "metadata": {},
   "source": [
    "Let's proceed with the assumption of the number of unique categories for each categorical column.\n",
    "\n",
    "Let's assume the first categorical column has 4 unique categories (a = 4) and the second categorical column has 3 unique categories (b = 3).\n",
    "\n",
    "For the first categorical column (4 unique categories), 4 new columns will be created.\n",
    "For the second categorical column (3 unique categories), 3 new columns will be created.\n",
    "\n",
    "Therefore, the total new columns created for both categorical columns will be 4 (from the first categorical column) + 3 (from the second categorical column) = 7 new columns in total."
   ]
  },
  {
   "cell_type": "markdown",
   "id": "9064757b-5dea-46b6-988f-6e2f9895d5f0",
   "metadata": {},
   "source": [
    "Q6. You are working with a dataset containing information about different types of animals, including their\n",
    "species, habitat, and diet. Which encoding technique would you use to transform the categorical data into\n",
    "a format suitable for machine learning algorithms? Justify your answer."
   ]
  },
  {
   "cell_type": "markdown",
   "id": "36c32310-1bf9-4841-a8bd-e7c1eb7bdfb1",
   "metadata": {},
   "source": [
    "In the context of a dataset containing information about different types of animals, including their species, habitat, and diet, the appropriate encoding technique would depend on the nature of the categorical data and the requirements of the machine learning task. Generally, for this type of dataset, a combination of label (ordinal) encoding and one-hot encoding is often used.\n",
    "\n",
    "Label (Ordinal) Encoding:\n",
    "\n",
    "Usage: Label encoding is suitable for ordinal categorical data where there is a clear order or hierarchy among the categories. For instance, if the \"diet\" feature has categories like \"carnivore,\" \"herbivore,\" and \"omnivore,\" we can assign numerical labels (e.g., 1, 2, 3) to represent this ordinal relationship.\n",
    "Justification: It helps maintain the ordinal relationship for features like diet, where one category may be considered \"greater\" or \"lesser\" than another based on some criteria.\n",
    "One-Hot Encoding:\n",
    "\n",
    "Usage: One-hot encoding is appropriate for nominal categorical data, where there is no inherent order or hierarchy among the categories. For example, if the \"species\" feature has categories like \"lion,\" \"elephant,\" and \"giraffe,\" one-hot encoding creates binary columns representing each category.\n",
    "Justification: It prevents the model from assuming any ordinal relationship between different species, ensuring equal weight for each category."
   ]
  },
  {
   "cell_type": "markdown",
   "id": "09df59e5-5e38-44cc-93a3-e1dcdb953dbd",
   "metadata": {},
   "source": [
    "Q7.You are working on a project that involves predicting customer churn for a telecommunications\n",
    "company. You have a dataset with 5 features, including the customer's gender, age, contract type,\n",
    "monthly charges, and tenure. Which encoding technique(s) would you use to transform the categorical\n",
    "data into numerical data? Provide a step-by-step explanation of how you would implement the encoding."
   ]
  },
  {
   "cell_type": "markdown",
   "id": "1521ce34-2993-45ee-bd06-05f1f9fff743",
   "metadata": {},
   "source": [
    "The resulting dataset will have numerical representations for gender and contract type using label encoding (or ordinal encoding), and the numerical features (age, monthly charges, tenure) will remain unchanged. The 'contract type' feature will also have binary columns using one-hot encoding, ensuring proper representation for machine learning algorithms without introducing ordinal assumptions.\n"
   ]
  },
  {
   "cell_type": "code",
   "execution_count": null,
   "id": "2ec92b0b-fdd9-4ba0-9315-c416c7710189",
   "metadata": {},
   "outputs": [],
   "source": []
  }
 ],
 "metadata": {
  "kernelspec": {
   "display_name": "Python 3 (ipykernel)",
   "language": "python",
   "name": "python3"
  },
  "language_info": {
   "codemirror_mode": {
    "name": "ipython",
    "version": 3
   },
   "file_extension": ".py",
   "mimetype": "text/x-python",
   "name": "python",
   "nbconvert_exporter": "python",
   "pygments_lexer": "ipython3",
   "version": "3.10.8"
  }
 },
 "nbformat": 4,
 "nbformat_minor": 5
}
