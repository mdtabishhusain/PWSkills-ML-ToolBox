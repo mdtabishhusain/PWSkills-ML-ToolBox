{
 "cells": [
  {
   "cell_type": "markdown",
   "id": "8ff781ff-ca25-421b-8246-8af7dd36ca73",
   "metadata": {},
   "source": [
    "### Q1. What is Statistics?"
   ]
  },
  {
   "cell_type": "markdown",
   "id": "2b77def4-0d9b-4977-9f13-3a01de4db4c7",
   "metadata": {},
   "source": [
    "### Ans:\n",
    "Statistics is the science of collecting, organizing and analysing data."
   ]
  },
  {
   "cell_type": "markdown",
   "id": "ab57134e-7a54-402e-bf59-6963bafd3019",
   "metadata": {},
   "source": [
    "### Q2. Define the different types of statistics and give an example of when each type might be used."
   ]
  },
  {
   "cell_type": "markdown",
   "id": "11c54d43-d51a-4c06-8507-a117fe78f6d0",
   "metadata": {},
   "source": [
    "### Ans:\n",
    "Stats is broadly classified into 2 types:\n",
    "1. Descriptive Stats: It consists of organizing and summarizing data.\n",
    "2. Inferential Stats: It consists of using data we have measured (sample data) to form conclusion.\n",
    "\n",
    "**Example:** There are 20 stats classes in a college. You have collected heights of students in the class. Heights are recorded (in cm) as – {175, 180, 140, 140, 135, 160, 135, 190}\n",
    "\n",
    "Descriptive Question – \"What is the average height of class?\" (175+180+140+140+135+160+135+190)/8=156.88\n",
    "\n",
    "Inferential Question – \"Are the height of the students in classroom similar to what you expect in the entire college?\" Yes."
   ]
  },
  {
   "cell_type": "markdown",
   "id": "01629882-9ee9-44c1-acf0-c47268066ca0",
   "metadata": {},
   "source": [
    "### Q3. What are the different types of data and how do they differ from each other? Provide an example of each type of data."
   ]
  },
  {
   "cell_type": "markdown",
   "id": "0d3a49fb-b4d9-4bef-ab2e-9e963c786182",
   "metadata": {},
   "source": [
    "### Ans:\n",
    "Data is broadly classified into 2 types:\n",
    "1. Quantitative Data: It consists of numerical variables only either float or integer.\n",
    "**Example:** Height data of a class: [178.9, 179, 179.5, 176, 177.2, 178.3, 175.8,...]\n",
    "\n",
    "2. Qualitative Data: Also known as categorical variables. It consists of fixed categories of data.\n",
    "**Example:** Grading in exam: A+, A, B+, B, C+, C, D, E"
   ]
  },
  {
   "cell_type": "markdown",
   "id": "b2971cc1-e7ff-4dd0-b5e2-461ed06b4254",
   "metadata": {},
   "source": [
    "### Q4. Categorise the following datasets with respect to quantitative and qualitative data types:\n",
    "1. Grading in exam: A+, A, B+, B, C+, C, D, E\n",
    "2. Colour of mangoes: yellow, green, orange, red\n",
    "3. Height data of a class: [178.9, 179, 179.5, 176, 177.2, 178.3, 175.8,...]\n",
    "4. Number of mangoes exported by a farm: [500, 600, 478, 672, ...]"
   ]
  },
  {
   "cell_type": "markdown",
   "id": "c0d6a5e7-12d6-4c53-b54f-ce13b237c916",
   "metadata": {},
   "source": [
    "### Ans:\n",
    "1. Grading in exam: A+, A, B+, B, C+, C, D, E - **Qualitative data**\n",
    "2. Colour of mangoes: yellow, green, orange, red - **Qualitative data**\n",
    "3. Height data of a class: [178.9, 179, 179.5, 176, 177.2, 178.3, 175.8,...] - **Quantitative data**\n",
    "4. Number of mangoes exported by a farm: [500, 600, 478, 672, ...] - **Quantitative data**"
   ]
  },
  {
   "cell_type": "markdown",
   "id": "ffb5dae9-bbf6-450f-a579-cf8c97665e1d",
   "metadata": {},
   "source": [
    "### Q5. Explain the concept of levels of measurement and give an example of a variable for each level."
   ]
  },
  {
   "cell_type": "markdown",
   "id": "b7966d88-0a01-46d2-be82-aee7f00ecf7a",
   "metadata": {},
   "source": [
    "### Ans:\n",
    "Levels of measurement, also known as scales of measurement, refer to the different ways in which data can be classified and organized based on the nature and characteristics of the variables being measured. There are four primary levels of measurement.\n",
    "\n",
    "1. **Nominal Scale Data:** \n",
    "•\tIt consists of qualitative (categorical) data.\n",
    "•\tGender, colour, labels etc. are nominal scale data.\n",
    "•\tHere order/rank of data doesn’t matter\n",
    "•\tExample – A colour survey was conducted among 10 people. 5 opted for red colour, 3 people choose blue colour and 2 people select orange as their favourite colour. So in this example the data is of nominal scale as data is categorical but colours do not have any superiority of rank above each other.\n",
    "2. **Ordinal Scale Data:**\n",
    "•\tIt also consists of qualitative/categorical data like nominal scale.\n",
    "•\tBut in this scale of data the order/rank of data is important.\n",
    "•\tDifference cannot be measured in ordinal scale data with just categorical data. To calculate difference additional data is needed for example – In a race A gets 1st place, B gets 2nd and C gets 3rd. We cannot find the difference between these three unless time of finishing the race is provided therefore we cannot measure difference in ordinal scale data. \n",
    "•\tExample – An app has reviews in three categories in order – Best, Good and Bad. The reviews in Best categories have higher value than the reviews in Good categories and similarly the reviews in Good categories have higher value than the reviews in Bad categories. So we can see the categories have order/rank above each other therefore data is of ordinal scale. \n",
    "3. **Interval Scale Data:**\n",
    "•\tIt consists of quantitative data.\n",
    "•\tHere the order/rank of data matters. This means that data must be in proper order either in ascending or descending.\n",
    "•\tDifference can be measured in interval scale data as data is in proper order.\n",
    "•\tRatio of data cannot be measured or has no value in interval scale. For example in a dataset of temperature – [30F, 60F, 90F, 120F]. If we bring out ratio between 60F and 30F we get the ratio 2:1. But it doesn’t mean that the in actual 60F is double in heat or cold than 30F. Therefore in this type of data ratio has no true value.\n",
    "•\tThere is no 0 starting point as we can also get negative values like in case of temperature variable, it can also be 0F or -15F or -30F as starting point.\n",
    "4. **Ratio Scale Data:**\n",
    "•\tIt also consists of quantitative data.\n",
    "•\tHere the order/rank matters similar to interval scale data therefore difference can also be measured.\n",
    "•\tRatios can be measured. For example in a dataset containing length of different rivers if we get ratio between 2 rivers as 2:1 that means the river is actually twice in length than the other one.\n",
    "•\tIt has a 0 starting point. For example in a dataset of marks of students it is possible that a student got 0 marks but there would be no negative marks of any student.\n"
   ]
  },
  {
   "cell_type": "markdown",
   "id": "6d516680-0740-4b8a-9427-e7055078030a",
   "metadata": {},
   "source": [
    "### Q6. Why is it important to understand the level of measurement when analyzing data? Provide an example to illustrate your answer."
   ]
  },
  {
   "cell_type": "markdown",
   "id": "3d3a6c2f-e911-49a8-b3c5-7c4b694b7504",
   "metadata": {},
   "source": [
    "### Ans:\n",
    "Understanding the level of measurement of variables when analyzing data is important for several reasons:\n",
    "Here's an example to illustrate the importance of understanding the level of measurement:\n",
    "\n",
    "Suppose you are conducting a customer satisfaction survey for an e-commerce website and ask respondents to rate their satisfaction on a scale from 1 to 5, where 1 represents \"very dissatisfied\" and 5 represents \"very satisfied.\" In this case:\n",
    "\n",
    "The variable is ordinal because it has an ordered set of categories (1, 2, 3, 4, 5).\n",
    "The intervals between the categories are not necessarily equal; you don't know if the difference between \"1\" and \"2\" is the same as between \"4\" and \"5.\"\n",
    "If you treat this ordinal data as if it were interval data and calculate the mean customer satisfaction score, you might incorrectly conclude that the average satisfaction level is 3.0 (the midpoint). This conclusion assumes equal intervals between categories, which may not be valid.\n",
    "\n",
    "However, if you understand that the data is ordinal, you might report the median (the middle value) or use non-parametric statistical tests appropriate for ordinal data to analyze differences in satisfaction levels accurately. Understanding the level of measurement ensures that your analysis and interpretation align with the true nature of the data, leading to more valid and meaningful results."
   ]
  },
  {
   "cell_type": "markdown",
   "id": "78656179-71e0-4c7c-a2ca-a6722ef1ed1d",
   "metadata": {},
   "source": [
    "### Q7. How nominal data type is different from ordinal data type."
   ]
  },
  {
   "cell_type": "markdown",
   "id": "50b3b5f6-fb3d-49ad-801c-01cf6445f8f7",
   "metadata": {},
   "source": [
    "### Ans:\n",
    "Nominal data consists of qualitative (categorical) data. Gender, colour, labels etc. are nominal scale data.\n",
    "\n",
    "Ordinal dara also consists of qualitative (categorical) data like nominal scale.But in this scale of data the order/rank of data is important.\n",
    "\n"
   ]
  },
  {
   "cell_type": "markdown",
   "id": "844244a3-a8c0-4235-8476-19be6b2aebba",
   "metadata": {},
   "source": [
    "### Q9. Describe the difference between descriptive and inferential statistics. Give an example of each type of statistics and explain how they are used."
   ]
  },
  {
   "cell_type": "markdown",
   "id": "c0b967be-de26-44a8-bf09-90ec15ea4d37",
   "metadata": {},
   "source": [
    "### Ans:\n",
    "Descriptive statistics summarize and describe data, while inferential statistics use data from a sample to make inferences and draw conclusions about a larger population. Both types of statistics play crucial roles in data analysis and decision-making in various fields, such as science, business, and social sciences.\n",
    "\n",
    "Example of Descriptive Statistics:\n",
    "\n",
    "Imagine you have a dataset containing the ages of a group of people. You can use descriptive statistics to calculate and report the measures such as mean, median, standard deviation etc.\n",
    "\n",
    "Example of Inferential Statistics:\n",
    "\n",
    "Suppose you work for a polling organization and want to know the political preferences of all eligible voters in a country, which consists of millions of people. It's not feasible to survey every voter, so you take a random sample of 1,000 voters and ask about their political affiliations."
   ]
  },
  {
   "cell_type": "markdown",
   "id": "c2fa3434-8d27-4770-94d2-7360f530a19a",
   "metadata": {},
   "source": [
    "### Q10. What are some common measures of central tendency and variability used in statistics? Explain how each measure can be used to describe a dataset."
   ]
  },
  {
   "cell_type": "markdown",
   "id": "6da5772f-68ca-4ad1-9eb7-f19c5a9b9ecf",
   "metadata": {},
   "source": [
    "### Ans:\n",
    "Measures of central tendency are used to describe the center or typical value of a dataset. They provide insights into where most of the data is concentrated. Some common measures of central tendency include: Mean, Median, Mode.\n",
    "\n",
    "Measures of variability describe the spread, scatter, or dispersion of data points in a dataset. They provide insights into how data points are distributed and how much they deviate from the central tendency. Common measures of variability include: Range, Variance, Standard Deviation, Interquartile Range (IQR)."
   ]
  },
  {
   "cell_type": "code",
   "execution_count": null,
   "id": "631d07b4-d957-4656-835a-4e6dd6f720cc",
   "metadata": {},
   "outputs": [],
   "source": []
  }
 ],
 "metadata": {
  "kernelspec": {
   "display_name": "Python 3 (ipykernel)",
   "language": "python",
   "name": "python3"
  },
  "language_info": {
   "codemirror_mode": {
    "name": "ipython",
    "version": 3
   },
   "file_extension": ".py",
   "mimetype": "text/x-python",
   "name": "python",
   "nbconvert_exporter": "python",
   "pygments_lexer": "ipython3",
   "version": "3.10.8"
  }
 },
 "nbformat": 4,
 "nbformat_minor": 5
}
